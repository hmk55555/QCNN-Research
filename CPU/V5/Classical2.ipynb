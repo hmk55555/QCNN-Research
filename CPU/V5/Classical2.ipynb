{
 "cells": [
  {
   "cell_type": "code",
   "execution_count": 1,
   "metadata": {},
   "outputs": [
    {
     "name": "stdout",
     "output_type": "stream",
     "text": [
      "1.2.4\n",
      "0.7.2\n"
     ]
    }
   ],
   "source": [
    "import json\n",
    "import numpy as np\n",
    "import random\n",
    "import matplotlib.pyplot as plt\n",
    "from scipy.linalg import qr\n",
    "from IPython.display import clear_output\n",
    "from qiskit import QuantumCircuit\n",
    "from qiskit_machine_learning.circuit.library import QNNCircuit, RawFeatureVector\n",
    "from qiskit.circuit import ParameterVector\n",
    "from qiskit.circuit.library import ZFeatureMap, ZZFeatureMap\n",
    "from qiskit.quantum_info import SparsePauliOp\n",
    "from qiskit_algorithms.utils import algorithm_globals\n",
    "from qiskit_machine_learning.algorithms.classifiers import NeuralNetworkClassifier\n",
    "from qiskit_machine_learning.neural_networks import EstimatorQNN, SamplerQNN\n",
    "from sklearn.model_selection import train_test_split\n",
    "from qiskit_algorithms.optimizers import COBYLA, SPSA, QNSPSA, SLSQP, ADAM, GradientDescent\n",
    "from qiskit_machine_learning.algorithms.classifiers import NeuralNetworkClassifier, VQC\n",
    "import qiskit\n",
    "import qiskit_machine_learning\n",
    "print(qiskit.version.get_version_info())\n",
    "print(qiskit_machine_learning.version.get_version_info())"
   ]
  },
  {
   "cell_type": "code",
   "execution_count": 2,
   "metadata": {},
   "outputs": [
    {
     "name": "stdout",
     "output_type": "stream",
     "text": [
      "Number of original training examples: 60000\n",
      "Number of original test examples: 10000\n"
     ]
    }
   ],
   "source": [
    "import tensorflow as tf\n",
    "(x_train, y_train), (x_test, y_test) = tf.keras.datasets.mnist.load_data()\n",
    "x_train, x_test = x_train[..., np.newaxis]/(255.0/np.pi), x_test[..., np.newaxis]/(255.0/np.pi)\n",
    "print(\"Number of original training examples:\", len(x_train))\n",
    "print(\"Number of original test examples:\", len(x_test))"
   ]
  },
  {
   "cell_type": "code",
   "execution_count": 3,
   "metadata": {},
   "outputs": [],
   "source": [
    "a = 3\n",
    "b = 4\n",
    "def filter_abcd(x, y):\n",
    "    keep = (y == a) | (y == b)\n",
    "    x, y = x[keep], y[keep]\n",
    "    return x,y"
   ]
  },
  {
   "cell_type": "code",
   "execution_count": 4,
   "metadata": {},
   "outputs": [
    {
     "name": "stdout",
     "output_type": "stream",
     "text": [
      "Number of filtered training examples: 11973\n",
      "Number of filtered test examples: 1992\n"
     ]
    }
   ],
   "source": [
    "x_train, y_train = filter_abcd(x_train, y_train)\n",
    "x_test, y_test = filter_abcd(x_test, y_test)\n",
    "\n",
    "print(\"Number of filtered training examples:\", len(x_train))\n",
    "print(\"Number of filtered test examples:\", len(x_test))"
   ]
  },
  {
   "cell_type": "code",
   "execution_count": 5,
   "metadata": {},
   "outputs": [
    {
     "name": "stdout",
     "output_type": "stream",
     "text": [
      "4\n"
     ]
    },
    {
     "data": {
      "text/plain": [
       "<matplotlib.colorbar.Colorbar at 0x2951389ab30>"
      ]
     },
     "execution_count": 5,
     "metadata": {},
     "output_type": "execute_result"
    },
    {
     "data": {
      "image/png": "[encoded data removed]",
      "text/plain": [
       "<Figure size 640x480 with 2 Axes>"
      ]
     },
     "metadata": {},
     "output_type": "display_data"
    }
   ],
   "source": [
    "img = 13\n",
    "print(y_train[img])\n",
    "plt.imshow(x_train[img, :, :, 0])\n",
    "plt.colorbar()"
   ]
  },
  {
   "cell_type": "code",
   "execution_count": 6,
   "metadata": {},
   "outputs": [],
   "source": [
    "x_train_small = tf.image.resize(x_train, (4,4), method = 'area').numpy()\n",
    "x_test_small = tf.image.resize(x_test, (4,4), method = 'area').numpy()"
   ]
  },
  {
   "cell_type": "code",
   "execution_count": 7,
   "metadata": {},
   "outputs": [
    {
     "name": "stdout",
     "output_type": "stream",
     "text": [
      "4\n"
     ]
    },
    {
     "data": {
      "text/plain": [
       "<matplotlib.colorbar.Colorbar at 0x29514622a40>"
      ]
     },
     "execution_count": 7,
     "metadata": {},
     "output_type": "execute_result"
    },
    {
     "data": {
      "image/png": "[encoded data removed]",
      "text/plain": [
       "<Figure size 640x480 with 2 Axes>"
      ]
     },
     "metadata": {},
     "output_type": "display_data"
    }
   ],
   "source": [
    "img = 13\n",
    "print(y_train[img])\n",
    "plt.imshow(x_train_small[img,:,:,0], vmin=0, vmax=np.pi)\n",
    "plt.colorbar()"
   ]
  },
  {
   "cell_type": "code",
   "execution_count": 8,
   "metadata": {},
   "outputs": [],
   "source": [
    "def remove_contradicting(xs, ys):\n",
    "    mapping = collections.defaultdict(set)\n",
    "    orig_x = {}\n",
    "    # Determine the set of labels for each unique image:\n",
    "    for x,y in zip(xs,ys):\n",
    "       orig_x[tuple(x.flatten())] = x\n",
    "       mapping[tuple(x.flatten())].add(y)\n",
    "   \n",
    "    new_x = []\n",
    "    new_y = []\n",
    "    for flatten_x in mapping:\n",
    "      x = orig_x[flatten_x]\n",
    "      labels = mapping[flatten_x]\n",
    "      if len(labels) == 1:\n",
    "          new_x.append(x)\n",
    "          new_y.append(next(iter(labels)))\n",
    "      else:\n",
    "          # Throw out images that match more than one label.\n",
    "          pass\n",
    "\n",
    "\n",
    "    num_uniq_a = sum(1 for value in mapping.values() if len(value) == 1 and a in value)\n",
    "    num_uniq_b = sum(1 for value in mapping.values() if len(value) == 1 and b in value)\n",
    "    num_uniq_all = sum(1 for value in mapping.values() if len(value) >= 2)\n",
    "\n",
    "\n",
    "    print(\"Number of unique images:\", len(mapping.values()))\n",
    "    print(\"Number of unique \", a, \"'s: \", num_uniq_a)\n",
    "    print(\"Number of unique \", b, \"'s: \", num_uniq_b)\n",
    "    print(\"Number of unique contradicting labels: \", num_uniq_all)\n",
    "    print()\n",
    "    print(\"Initial number of images: \", len(xs))\n",
    "    print(\"Remaining non-contradicting unique images: \", len(new_x))\n",
    "   \n",
    "    return np.asarray(new_x), np.asarray(new_y)"
   ]
  },
  {
   "cell_type": "code",
   "execution_count": 61,
   "metadata": {},
   "outputs": [
    {
     "name": "stdout",
     "output_type": "stream",
     "text": [
      "Number of unique images: 11973\n",
      "Number of unique  3 's:  6131\n",
      "Number of unique  4 's:  5842\n",
      "Number of unique contradicting labels:  0\n",
      "\n",
      "Initial number of images:  11973\n",
      "Remaining non-contradicting unique images:  11973\n",
      "Number of unique images: 1992\n",
      "Number of unique  3 's:  1010\n",
      "Number of unique  4 's:  982\n",
      "Number of unique contradicting labels:  0\n",
      "\n",
      "Initial number of images:  1992\n",
      "Remaining non-contradicting unique images:  1992\n"
     ]
    }
   ],
   "source": [
    "import collections\n",
    "resized_train_images, train_labels = remove_contradicting(x_train_small, y_train)\n",
    "resized_test_images, test_labels = remove_contradicting(x_test_small, y_test)"
   ]
  },
  {
   "cell_type": "code",
   "execution_count": null,
   "metadata": {},
   "outputs": [
    {
     "name": "stderr",
     "output_type": "stream",
     "text": [
      "c:\\Users\\Himank\\anaconda3\\envs\\qiskit\\lib\\site-packages\\keras\\src\\layers\\convolutional\\base_conv.py:107: UserWarning: Do not pass an `input_shape`/`input_dim` argument to a layer. When using Sequential models, prefer using an `Input(shape)` object as the first layer in the model instead.\n",
      "  super().__init__(activity_regularizer=activity_regularizer, **kwargs)\n"
     ]
    },
    {
     "ename": "ValueError",
     "evalue": "Computed output size would be negative. Received `inputs shape=(None, 1, 1, 32)`, `kernel shape=(3, 3, 32, 64)`, `dilation_rate=[1 1]`.",
     "output_type": "error",
     "traceback": [
      "\u001b[1;31m---------------------------------------------------------------------------\u001b[0m",
      "\u001b[1;31mValueError\u001b[0m                                Traceback (most recent call last)",
      "\u001b[1;32m~\\AppData\\Local\\Temp/ipykernel_36828/3752844352.py\u001b[0m in \u001b[0;36m<module>\u001b[1;34m\u001b[0m\n\u001b[0;32m      3\u001b[0m \u001b[0mmodel\u001b[0m\u001b[1;33m.\u001b[0m\u001b[0madd\u001b[0m\u001b[1;33m(\u001b[0m\u001b[0mlayers\u001b[0m\u001b[1;33m.\u001b[0m\u001b[0mConv2D\u001b[0m\u001b[1;33m(\u001b[0m\u001b[1;36m32\u001b[0m\u001b[1;33m,\u001b[0m \u001b[1;33m(\u001b[0m\u001b[1;36m3\u001b[0m\u001b[1;33m,\u001b[0m \u001b[1;36m3\u001b[0m\u001b[1;33m)\u001b[0m\u001b[1;33m,\u001b[0m \u001b[0mactivation\u001b[0m\u001b[1;33m=\u001b[0m\u001b[1;34m'relu'\u001b[0m\u001b[1;33m,\u001b[0m \u001b[0minput_shape\u001b[0m\u001b[1;33m=\u001b[0m\u001b[1;33m(\u001b[0m\u001b[1;36m4\u001b[0m\u001b[1;33m,\u001b[0m \u001b[1;36m4\u001b[0m\u001b[1;33m,\u001b[0m \u001b[1;36m1\u001b[0m\u001b[1;33m)\u001b[0m\u001b[1;33m)\u001b[0m\u001b[1;33m)\u001b[0m\u001b[1;33m\u001b[0m\u001b[1;33m\u001b[0m\u001b[0m\n\u001b[0;32m      4\u001b[0m \u001b[0mmodel\u001b[0m\u001b[1;33m.\u001b[0m\u001b[0madd\u001b[0m\u001b[1;33m(\u001b[0m\u001b[0mlayers\u001b[0m\u001b[1;33m.\u001b[0m\u001b[0mMaxPooling2D\u001b[0m\u001b[1;33m(\u001b[0m\u001b[1;33m(\u001b[0m\u001b[1;36m2\u001b[0m\u001b[1;33m,\u001b[0m \u001b[1;36m2\u001b[0m\u001b[1;33m)\u001b[0m\u001b[1;33m)\u001b[0m\u001b[1;33m)\u001b[0m\u001b[1;33m\u001b[0m\u001b[1;33m\u001b[0m\u001b[0m\n\u001b[1;32m----> 5\u001b[1;33m \u001b[0mmodel\u001b[0m\u001b[1;33m.\u001b[0m\u001b[0madd\u001b[0m\u001b[1;33m(\u001b[0m\u001b[0mlayers\u001b[0m\u001b[1;33m.\u001b[0m\u001b[0mConv2D\u001b[0m\u001b[1;33m(\u001b[0m\u001b[1;36m64\u001b[0m\u001b[1;33m,\u001b[0m \u001b[1;33m(\u001b[0m\u001b[1;36m3\u001b[0m\u001b[1;33m,\u001b[0m \u001b[1;36m3\u001b[0m\u001b[1;33m)\u001b[0m\u001b[1;33m,\u001b[0m \u001b[0mactivation\u001b[0m\u001b[1;33m=\u001b[0m\u001b[1;34m'relu'\u001b[0m\u001b[1;33m)\u001b[0m\u001b[1;33m)\u001b[0m\u001b[1;33m\u001b[0m\u001b[1;33m\u001b[0m\u001b[0m\n\u001b[0m\u001b[0;32m      6\u001b[0m \u001b[0mmodel\u001b[0m\u001b[1;33m.\u001b[0m\u001b[0madd\u001b[0m\u001b[1;33m(\u001b[0m\u001b[0mlayers\u001b[0m\u001b[1;33m.\u001b[0m\u001b[0mMaxPooling2D\u001b[0m\u001b[1;33m(\u001b[0m\u001b[1;33m(\u001b[0m\u001b[1;36m2\u001b[0m\u001b[1;33m,\u001b[0m \u001b[1;36m2\u001b[0m\u001b[1;33m)\u001b[0m\u001b[1;33m)\u001b[0m\u001b[1;33m)\u001b[0m\u001b[1;33m\u001b[0m\u001b[1;33m\u001b[0m\u001b[0m\n\u001b[0;32m      7\u001b[0m \u001b[0mmodel\u001b[0m\u001b[1;33m.\u001b[0m\u001b[0madd\u001b[0m\u001b[1;33m(\u001b[0m\u001b[0mlayers\u001b[0m\u001b[1;33m.\u001b[0m\u001b[0mConv2D\u001b[0m\u001b[1;33m(\u001b[0m\u001b[1;36m64\u001b[0m\u001b[1;33m,\u001b[0m \u001b[1;33m(\u001b[0m\u001b[1;36m3\u001b[0m\u001b[1;33m,\u001b[0m \u001b[1;36m3\u001b[0m\u001b[1;33m)\u001b[0m\u001b[1;33m,\u001b[0m \u001b[0mactivation\u001b[0m\u001b[1;33m=\u001b[0m\u001b[1;34m'relu'\u001b[0m\u001b[1;33m)\u001b[0m\u001b[1;33m)\u001b[0m\u001b[1;33m\u001b[0m\u001b[1;33m\u001b[0m\u001b[0m\n",
      "\u001b[1;32mc:\\Users\\Himank\\anaconda3\\envs\\qiskit\\lib\\site-packages\\keras\\src\\models\\sequential.py\u001b[0m in \u001b[0;36madd\u001b[1;34m(self, layer, rebuild)\u001b[0m\n\u001b[0;32m    120\u001b[0m         \u001b[0mself\u001b[0m\u001b[1;33m.\u001b[0m\u001b[0m_layers\u001b[0m\u001b[1;33m.\u001b[0m\u001b[0mappend\u001b[0m\u001b[1;33m(\u001b[0m\u001b[0mlayer\u001b[0m\u001b[1;33m)\u001b[0m\u001b[1;33m\u001b[0m\u001b[1;33m\u001b[0m\u001b[0m\n\u001b[0;32m    121\u001b[0m         \u001b[1;32mif\u001b[0m \u001b[0mrebuild\u001b[0m\u001b[1;33m:\u001b[0m\u001b[1;33m\u001b[0m\u001b[1;33m\u001b[0m\u001b[0m\n\u001b[1;32m--> 122\u001b[1;33m             \u001b[0mself\u001b[0m\u001b[1;33m.\u001b[0m\u001b[0m_maybe_rebuild\u001b[0m\u001b[1;33m(\u001b[0m\u001b[1;33m)\u001b[0m\u001b[1;33m\u001b[0m\u001b[1;33m\u001b[0m\u001b[0m\n\u001b[0m\u001b[0;32m    123\u001b[0m         \u001b[1;32melse\u001b[0m\u001b[1;33m:\u001b[0m\u001b[1;33m\u001b[0m\u001b[1;33m\u001b[0m\u001b[0m\n\u001b[0;32m    124\u001b[0m             \u001b[0mself\u001b[0m\u001b[1;33m.\u001b[0m\u001b[0mbuilt\u001b[0m \u001b[1;33m=\u001b[0m \u001b[1;32mFalse\u001b[0m\u001b[1;33m\u001b[0m\u001b[1;33m\u001b[0m\u001b[0m\n",
      "\u001b[1;32mc:\\Users\\Himank\\anaconda3\\envs\\qiskit\\lib\\site-packages\\keras\\src\\models\\sequential.py\u001b[0m in \u001b[0;36m_maybe_rebuild\u001b[1;34m(self)\u001b[0m\n\u001b[0;32m    139\u001b[0m         \u001b[1;32mif\u001b[0m \u001b[0misinstance\u001b[0m\u001b[1;33m(\u001b[0m\u001b[0mself\u001b[0m\u001b[1;33m.\u001b[0m\u001b[0m_layers\u001b[0m\u001b[1;33m[\u001b[0m\u001b[1;36m0\u001b[0m\u001b[1;33m]\u001b[0m\u001b[1;33m,\u001b[0m \u001b[0mInputLayer\u001b[0m\u001b[1;33m)\u001b[0m \u001b[1;32mand\u001b[0m \u001b[0mlen\u001b[0m\u001b[1;33m(\u001b[0m\u001b[0mself\u001b[0m\u001b[1;33m.\u001b[0m\u001b[0m_layers\u001b[0m\u001b[1;33m)\u001b[0m \u001b[1;33m>\u001b[0m \u001b[1;36m1\u001b[0m\u001b[1;33m:\u001b[0m\u001b[1;33m\u001b[0m\u001b[1;33m\u001b[0m\u001b[0m\n\u001b[0;32m    140\u001b[0m             \u001b[0minput_shape\u001b[0m \u001b[1;33m=\u001b[0m \u001b[0mself\u001b[0m\u001b[1;33m.\u001b[0m\u001b[0m_layers\u001b[0m\u001b[1;33m[\u001b[0m\u001b[1;36m0\u001b[0m\u001b[1;33m]\u001b[0m\u001b[1;33m.\u001b[0m\u001b[0mbatch_shape\u001b[0m\u001b[1;33m\u001b[0m\u001b[1;33m\u001b[0m\u001b[0m\n\u001b[1;32m--> 141\u001b[1;33m             \u001b[0mself\u001b[0m\u001b[1;33m.\u001b[0m\u001b[0mbuild\u001b[0m\u001b[1;33m(\u001b[0m\u001b[0minput_shape\u001b[0m\u001b[1;33m)\u001b[0m\u001b[1;33m\u001b[0m\u001b[1;33m\u001b[0m\u001b[0m\n\u001b[0m\u001b[0;32m    142\u001b[0m         \u001b[1;32melif\u001b[0m \u001b[0mhasattr\u001b[0m\u001b[1;33m(\u001b[0m\u001b[0mself\u001b[0m\u001b[1;33m.\u001b[0m\u001b[0m_layers\u001b[0m\u001b[1;33m[\u001b[0m\u001b[1;36m0\u001b[0m\u001b[1;33m]\u001b[0m\u001b[1;33m,\u001b[0m \u001b[1;34m\"input_shape\"\u001b[0m\u001b[1;33m)\u001b[0m \u001b[1;32mand\u001b[0m \u001b[0mlen\u001b[0m\u001b[1;33m(\u001b[0m\u001b[0mself\u001b[0m\u001b[1;33m.\u001b[0m\u001b[0m_layers\u001b[0m\u001b[1;33m)\u001b[0m \u001b[1;33m>\u001b[0m \u001b[1;36m1\u001b[0m\u001b[1;33m:\u001b[0m\u001b[1;33m\u001b[0m\u001b[1;33m\u001b[0m\u001b[0m\n\u001b[0;32m    143\u001b[0m             \u001b[1;31m# We can build the Sequential model if the first layer has the\u001b[0m\u001b[1;33m\u001b[0m\u001b[1;33m\u001b[0m\u001b[0m\n",
      "\u001b[1;32mc:\\Users\\Himank\\anaconda3\\envs\\qiskit\\lib\\site-packages\\keras\\src\\layers\\layer.py\u001b[0m in \u001b[0;36mbuild_wrapper\u001b[1;34m(*args, **kwargs)\u001b[0m\n\u001b[0;32m    224\u001b[0m             \u001b[1;32mwith\u001b[0m \u001b[0mobj\u001b[0m\u001b[1;33m.\u001b[0m\u001b[0m_open_name_scope\u001b[0m\u001b[1;33m(\u001b[0m\u001b[1;33m)\u001b[0m\u001b[1;33m:\u001b[0m\u001b[1;33m\u001b[0m\u001b[1;33m\u001b[0m\u001b[0m\n\u001b[0;32m    225\u001b[0m                 \u001b[0mobj\u001b[0m\u001b[1;33m.\u001b[0m\u001b[0m_path\u001b[0m \u001b[1;33m=\u001b[0m \u001b[0mcurrent_path\u001b[0m\u001b[1;33m(\u001b[0m\u001b[1;33m)\u001b[0m\u001b[1;33m\u001b[0m\u001b[1;33m\u001b[0m\u001b[0m\n\u001b[1;32m--> 226\u001b[1;33m                 \u001b[0moriginal_build_method\u001b[0m\u001b[1;33m(\u001b[0m\u001b[1;33m*\u001b[0m\u001b[0margs\u001b[0m\u001b[1;33m,\u001b[0m \u001b[1;33m**\u001b[0m\u001b[0mkwargs\u001b[0m\u001b[1;33m)\u001b[0m\u001b[1;33m\u001b[0m\u001b[1;33m\u001b[0m\u001b[0m\n\u001b[0m\u001b[0;32m    227\u001b[0m             \u001b[1;31m# Record build config.\u001b[0m\u001b[1;33m\u001b[0m\u001b[1;33m\u001b[0m\u001b[0m\n\u001b[0;32m    228\u001b[0m             \u001b[0msignature\u001b[0m \u001b[1;33m=\u001b[0m \u001b[0minspect\u001b[0m\u001b[1;33m.\u001b[0m\u001b[0msignature\u001b[0m\u001b[1;33m(\u001b[0m\u001b[0moriginal_build_method\u001b[0m\u001b[1;33m)\u001b[0m\u001b[1;33m\u001b[0m\u001b[1;33m\u001b[0m\u001b[0m\n",
      "\u001b[1;32mc:\\Users\\Himank\\anaconda3\\envs\\qiskit\\lib\\site-packages\\keras\\src\\models\\sequential.py\u001b[0m in \u001b[0;36mbuild\u001b[1;34m(self, input_shape)\u001b[0m\n\u001b[0;32m    185\u001b[0m         \u001b[1;32mfor\u001b[0m \u001b[0mlayer\u001b[0m \u001b[1;32min\u001b[0m \u001b[0mself\u001b[0m\u001b[1;33m.\u001b[0m\u001b[0m_layers\u001b[0m\u001b[1;33m[\u001b[0m\u001b[1;36m1\u001b[0m\u001b[1;33m:\u001b[0m\u001b[1;33m]\u001b[0m\u001b[1;33m:\u001b[0m\u001b[1;33m\u001b[0m\u001b[1;33m\u001b[0m\u001b[0m\n\u001b[0;32m    186\u001b[0m             \u001b[1;32mtry\u001b[0m\u001b[1;33m:\u001b[0m\u001b[1;33m\u001b[0m\u001b[1;33m\u001b[0m\u001b[0m\n\u001b[1;32m--> 187\u001b[1;33m                 \u001b[0mx\u001b[0m \u001b[1;33m=\u001b[0m \u001b[0mlayer\u001b[0m\u001b[1;33m(\u001b[0m\u001b[0mx\u001b[0m\u001b[1;33m)\u001b[0m\u001b[1;33m\u001b[0m\u001b[1;33m\u001b[0m\u001b[0m\n\u001b[0m\u001b[0;32m    188\u001b[0m             \u001b[1;32mexcept\u001b[0m \u001b[0mNotImplementedError\u001b[0m\u001b[1;33m:\u001b[0m\u001b[1;33m\u001b[0m\u001b[1;33m\u001b[0m\u001b[0m\n\u001b[0;32m    189\u001b[0m                 \u001b[1;31m# Can happen if shape inference is not implemented.\u001b[0m\u001b[1;33m\u001b[0m\u001b[1;33m\u001b[0m\u001b[0m\n",
      "\u001b[1;32mc:\\Users\\Himank\\anaconda3\\envs\\qiskit\\lib\\site-packages\\keras\\src\\utils\\traceback_utils.py\u001b[0m in \u001b[0;36merror_handler\u001b[1;34m(*args, **kwargs)\u001b[0m\n\u001b[0;32m    120\u001b[0m             \u001b[1;31m# To get the full stack trace, call:\u001b[0m\u001b[1;33m\u001b[0m\u001b[1;33m\u001b[0m\u001b[0m\n\u001b[0;32m    121\u001b[0m             \u001b[1;31m# `keras.config.disable_traceback_filtering()`\u001b[0m\u001b[1;33m\u001b[0m\u001b[1;33m\u001b[0m\u001b[0m\n\u001b[1;32m--> 122\u001b[1;33m             \u001b[1;32mraise\u001b[0m \u001b[0me\u001b[0m\u001b[1;33m.\u001b[0m\u001b[0mwith_traceback\u001b[0m\u001b[1;33m(\u001b[0m\u001b[0mfiltered_tb\u001b[0m\u001b[1;33m)\u001b[0m \u001b[1;32mfrom\u001b[0m \u001b[1;32mNone\u001b[0m\u001b[1;33m\u001b[0m\u001b[1;33m\u001b[0m\u001b[0m\n\u001b[0m\u001b[0;32m    123\u001b[0m         \u001b[1;32mfinally\u001b[0m\u001b[1;33m:\u001b[0m\u001b[1;33m\u001b[0m\u001b[1;33m\u001b[0m\u001b[0m\n\u001b[0;32m    124\u001b[0m             \u001b[1;32mdel\u001b[0m \u001b[0mfiltered_tb\u001b[0m\u001b[1;33m\u001b[0m\u001b[1;33m\u001b[0m\u001b[0m\n",
      "\u001b[1;32mc:\\Users\\Himank\\anaconda3\\envs\\qiskit\\lib\\site-packages\\keras\\src\\ops\\operation_utils.py\u001b[0m in \u001b[0;36mcompute_conv_output_shape\u001b[1;34m(input_shape, filters, kernel_size, strides, padding, data_format, dilation_rate)\u001b[0m\n\u001b[0;32m    219\u001b[0m         \u001b[1;32mfor\u001b[0m \u001b[0mi\u001b[0m \u001b[1;32min\u001b[0m \u001b[0mrange\u001b[0m\u001b[1;33m(\u001b[0m\u001b[0mlen\u001b[0m\u001b[1;33m(\u001b[0m\u001b[0moutput_spatial_shape\u001b[0m\u001b[1;33m)\u001b[0m\u001b[1;33m)\u001b[0m\u001b[1;33m:\u001b[0m\u001b[1;33m\u001b[0m\u001b[1;33m\u001b[0m\u001b[0m\n\u001b[0;32m    220\u001b[0m             \u001b[1;32mif\u001b[0m \u001b[0mi\u001b[0m \u001b[1;32mnot\u001b[0m \u001b[1;32min\u001b[0m \u001b[0mnone_dims\u001b[0m \u001b[1;32mand\u001b[0m \u001b[0moutput_spatial_shape\u001b[0m\u001b[1;33m[\u001b[0m\u001b[0mi\u001b[0m\u001b[1;33m]\u001b[0m \u001b[1;33m<\u001b[0m \u001b[1;36m0\u001b[0m\u001b[1;33m:\u001b[0m\u001b[1;33m\u001b[0m\u001b[1;33m\u001b[0m\u001b[0m\n\u001b[1;32m--> 221\u001b[1;33m                 raise ValueError(\n\u001b[0m\u001b[0;32m    222\u001b[0m                     \u001b[1;34m\"Computed output size would be negative. Received \"\u001b[0m\u001b[1;33m\u001b[0m\u001b[1;33m\u001b[0m\u001b[0m\n\u001b[0;32m    223\u001b[0m                     \u001b[1;34mf\"`inputs shape={input_shape}`, \"\u001b[0m\u001b[1;33m\u001b[0m\u001b[1;33m\u001b[0m\u001b[0m\n",
      "\u001b[1;31mValueError\u001b[0m: Computed output size would be negative. Received `inputs shape=(None, 1, 1, 32)`, `kernel shape=(3, 3, 32, 64)`, `dilation_rate=[1 1]`."
     ]
    }
   ],
   "source": [
    "import torch.nn as nn\n",
    "import torch.nn.functional as F\n",
    "\n",
    "class Net(nn.Module):\n",
    "    def __init__(self):\n",
    "        super().__init__()\n",
    "        self.conv1 = nn.Conv2d(3, 6, 5)\n",
    "        self.pool = nn.MaxPool2d(2, 2)\n",
    "        self.conv2 = nn.Conv2d(6, 16, 5)\n",
    "        self.fc1 = nn.Linear(16 * 5 * 5, 120)\n",
    "        self.fc2 = nn.Linear(120, 84)\n",
    "        self.fc3 = nn.Linear(84, 10)\n",
    "\n",
    "    def forward(self, x):\n",
    "        x = self.pool(F.relu(self.conv1(x)))\n",
    "        x = self.pool(F.relu(self.conv2(x)))\n",
    "        x = torch.flatten(x, 1) # flatten all dimensions except batch\n",
    "        x = F.relu(self.fc1(x))\n",
    "        x = F.relu(self.fc2(x))\n",
    "        x = self.fc3(x)\n",
    "        return x\n",
    "\n",
    "\n",
    "net = Net()"
   ]
  },
  {
   "cell_type": "code",
   "execution_count": 124,
   "metadata": {},
   "outputs": [],
   "source": [
    "def callback_graph(weights, obj_func_eval):\n",
    "    clear_output(wait=True)\n",
    "    objective_func_vals.append(obj_func_eval)\n",
    "    \n",
    "  \n",
    "    print(\"weights\", weights)\n",
    "    print(\"objective function value\", objective_func_vals)\n",
    "    \n",
    "    plt.title(\"Objective function value against iteration\")\n",
    "    plt.xlabel(\"Iteration\")\n",
    "    plt.ylabel(\"Objective function value\")\n",
    "    plt.plot(range(len(objective_func_vals)), objective_func_vals)\n",
    "    plt.show()"
   ]
  },
  {
   "cell_type": "code",
   "execution_count": 147,
   "metadata": {},
   "outputs": [],
   "source": [
    "classifier = SamplerQNN(\n",
    "    circuit = circuit,\n",
    "    output_shape = 2,\n",
    "    interpret = lambda x: x%2,\n",
    "    )\n",
    "\n",
    "sampler_classifier = NeuralNetworkClassifier(neural_network=classifier, optimizer=COBYLA(maxiter=20), warm_start = True, callback=callback_graph)"
   ]
  },
  {
   "cell_type": "code",
   "execution_count": 151,
   "metadata": {},
   "outputs": [],
   "source": [
    "x_reshaped = []\n",
    "x1_reshaped = []\n",
    "\n",
    "for g in resized_train_images:\n",
    "    x_reshaped.append(g.reshape(1,16))\n",
    "\n",
    "for g in resized_test_images:\n",
    "    x1_reshaped.append(g.reshape(1,16))\n",
    "\n",
    "final_x = []\n",
    "final_x1 = []\n",
    "\n",
    "for entry in x_reshaped:\n",
    "    final_x.append(entry[0])\n",
    "\n",
    "for entry in x1_reshaped:\n",
    "    final_x1.append(entry[0])\n",
    "\n",
    "# Easier to work with names\n",
    "x = final_x\n",
    "y = train_labels\n",
    "x1 = final_x1\n",
    "y1 = test_labels\n",
    "\n",
    "# Setting labels to 0, 1, or 2 to properly process in samplerqnn.\n",
    "y_temp = []\n",
    "y1_temp = []\n",
    "\n",
    "for entry in y:\n",
    "    if entry == a:\n",
    "        y_temp.append(0)\n",
    "    elif entry == b:\n",
    "        y_temp.append(1)\n",
    "    else: y_temp.append(2)\n",
    "y=y_temp\n",
    "\n",
    "for entry in y1:\n",
    "    if entry == a:\n",
    "        y1_temp.append(0)\n",
    "    elif entry == b:\n",
    "        y1_temp.append(1)\n",
    "    else: y1_temp.append(2)\n",
    "y1=y_temp\n",
    "\n",
    "x = x[0:1000]\n",
    "y = y[0:1000]\n",
    "x1 = x1[0:1000]\n",
    "y1 = y1[0:1000]"
   ]
  },
  {
   "cell_type": "code",
   "execution_count": 152,
   "metadata": {},
   "outputs": [
    {
     "name": "stdout",
     "output_type": "stream",
     "text": [
      "477 523\n",
      "452 452\n",
      "[[0.0359542  0.         0.04701703 ... 0.         0.54685587 0.        ]\n",
      " [0.         0.26902792 0.86968946 ... 1.3765682  0.4684103  0.        ]\n",
      " [0.         0.         0.0341942  ... 0.43195325 0.         0.        ]\n",
      " ...\n",
      " [0.         0.4734389  0.20214808 ... 0.5202045  0.43572468 0.        ]\n",
      " [0.         1.0911974  0.37714198 ... 0.7135526  1.108546   0.08975979]\n",
      " [0.01684568 0.7273811  0.55842155 ... 0.897095   0.7303983  0.        ]]\n",
      "[1 0 1 0 0 1 1 0 0 0 0 0 1 1 1 1 1 0 0 1 1 0 0 0 1 1 0 1 0 0 1 1 0 1 0 1 1\n",
      " 1 0 0 1 0 0 0 0 1 1 0 0 1 0 0 0 0 1 1 1 1 0 0 1 0 1 1 1 0 1 0 0 1 0 1 1 0\n",
      " 1 1 0 0 1 1 1 1 1 1 0 1 0 1 1 1 0 0 1 1 0 0 1 0 1 0 0 0 0 0 1 0 1 0 0 0 0\n",
      " 1 1 0 1 0 1 1 1 1 0 1 0 0 0 1 1 0 1 1 0 0 1 1 1 1 0 1 1 1 0 1 1 1 0 1 1 1\n",
      " 0 1 0 0 0 1 1 0 0 1 1 0 1 0 1 1 1 1 1 0 0 0 0 0 0 1 0 1 0 1 0 1 1 1 0 1 1\n",
      " 1 1 0 0 1 0 0 1 1 1 1 0 0 1 1 0 1 0 1 0 1 1 0 0 1 0 1 1 0 1 1 0 1 0 0 0 1\n",
      " 0 0 1 0 0 0 1 1 1 1 1 1 0 1 0 1 1 1 0 1 1 1 0 1 0 1 1 0 0 0 0 1 1 1 0 1 1\n",
      " 1 1 1 0 0 1 0 0 0 0 0 0 1 0 0 0 1 0 1 1 1 0 1 0 0 1 0 0 1 1 1 0 1 1 0 0 1\n",
      " 0 0 1 0 1 1 1 1 0 0 1 1 1 1 0 1 0 1 0 1 1 1 0 0 0 0 0 0 1 0 1 1 1 0 1 0 0\n",
      " 1 0 1 0 1 1 0 1 0 0 1 0 1 1 0 1 1 0 0 0 1 1 0 1 1 1 1 1 0 0 0 0 1 0 1 1 1\n",
      " 1 0 0 1 1 0 1 1 0 0 1 0 0 0 1 0 1 0 1 0 1 1 1 0 0 0 0 1 0 1 1 1 0 1 0 1 0\n",
      " 0 0 0 1 1 1 1 0 1 1 1 1 1 1 0 0 0 0 1 0 0 1 0 1 0 0 0 1 0 0 0 0 1 1 1 0 1\n",
      " 0 0 1 0 1 1 0 0 1 1 0 1 1 1 1 1 0 0 0 0 1 1 1 0 0 1 1 0 1 0 1 1 0 1 1 1 0\n",
      " 1 1 1 1 0 1 0 0 1 1 0 1 1 1 1 0 1 1 0 1 0 1 1 1 1 1 1 0 1 0 1 1 0 0 0 1 1\n",
      " 0 1 0 0 1 0 0 0 0 0 0 1 1 1 1 0 0 0 1 1 0 0 1 1 0 1 0 0 1 0 0 0 1 0 0 0 1\n",
      " 1 0 0 1 0 1 0 1 0 0 1 0 1 0 1 0 0 1 1 0 0 0 0 1 1 1 0 1 1 0 0 1 0 1 1 1 0\n",
      " 1 1 0 1 0 0 1 1 1 0 1 1 0 0 0 1 0 0 0 1 0 0 1 1 0 0 1 1 0 1 0 1 0 0 1 1 1\n",
      " 0 0 0 1 1 0 1 1 1 1 0 1 1 1 1 1 0 1 1 0 1 1 0 1 0 0 0 0 0 1 1 1 0 1 0 1 0\n",
      " 1 1 0 1 0 1 1 1 0 1 1 0 1 1 1 0 1 0 1 0 0 0 0 0 1 0 1 0 1 1 1 0 1 1 0 0 1\n",
      " 0 1 0 0 0 0 1 0 0 0 1 1 1 1 0 1 1 1 1 0 0 0 0 0 1 1 1 0 1 1 1 0 0 0 1 1 0\n",
      " 0 0 1 0 0 0 0 1 0 1 0 1 1 0 1 1 0 1 0 0 1 1 0 0 0 0 1 0 1 1 0 1 0 1 0 1 1\n",
      " 1 0 1 1 0 1 0 0 1 1 0 0 0 0 0 1 0 1 0 1 1 0 0 1 1 1 0 1 1 1 0 0 0 0 1 1 0\n",
      " 1 0 1 1 1 1 0 0 0 0 0 0 1 1 0 1 0 0 1 1 0 1 1 0 1 1 1 0 1 1 1 1 0 0 1 0 0\n",
      " 1 1 1 1 0 1 0 1 0 1 0 0 0 0 0 0 0 0 0 0 0 0 0 0 0 0 0 0 0 0 0 0 0 0 0 0 0\n",
      " 0 0 0 0 0 0 0 0 0 0 0 0 0 0 0 0]\n"
     ]
    }
   ],
   "source": [
    "counta = 0\n",
    "countb = 0\n",
    "countc = 0\n",
    "for i in range(len(y)):\n",
    "    if y[i] == 0:\n",
    "        counta+=1\n",
    "    elif y[i] == 1:\n",
    "        countb+=1\n",
    "    else: countc+=1\n",
    "print(counta, countb)\n",
    "\n",
    "def balance_lists(x, y, max_count=452):\n",
    "    \"\"\"Balances two lists x and y based on the values in y (0 or 1).\"\"\"\n",
    "    \n",
    "    x_balanced = []\n",
    "    y_balanced = []\n",
    "    count0 = 0\n",
    "    count1 = 0\n",
    "\n",
    "    for i in range(len(y)):\n",
    "        if y[i] == 0:\n",
    "            if count0 < max_count:\n",
    "                x_balanced.append(x[i])\n",
    "                y_balanced.append(y[i])\n",
    "                count0 += 1\n",
    "        elif y[i] == 1:\n",
    "            if count1 < max_count:\n",
    "                x_balanced.append(x[i])\n",
    "                y_balanced.append(y[i])\n",
    "                count1 += 1\n",
    "\n",
    "    return x_balanced, y_balanced\n",
    "\n",
    "x, y = balance_lists(x, y)\n",
    "\n",
    "counta = 0\n",
    "countb = 0\n",
    "countc = 0\n",
    "for i in range(len(y)):\n",
    "    if y[i] == 0:\n",
    "        counta+=1\n",
    "    elif y[i] == 1:\n",
    "        countb+=1\n",
    "    else: countc+=1\n",
    "print(counta, countb)\n",
    "\n",
    "# Converting to nparray\n",
    "x = np.asarray(x)\n",
    "y = np.asarray(y)\n",
    "x1 = np.asarray(x1)\n",
    "y1 = np.asarray(y1)\n",
    "objective_func_vals = []\n",
    "\n",
    "print(x)\n",
    "print(y)"
   ]
  },
  {
   "cell_type": "code",
   "execution_count": 153,
   "metadata": {},
   "outputs": [
    {
     "name": "stdout",
     "output_type": "stream",
     "text": [
      "[[0.         0.20767951 0.         ... 0.37487912 0.11565687 0.        ]\n",
      " [0.         0.         0.29266217 ... 0.         0.6019186  0.        ]\n",
      " [0.12269685 0.9214835  0.7681125  ... 0.6071986  0.996409   0.19183955]\n",
      " ...\n",
      " [0.         0.3570277  0.5199531  ... 1.3732997  0.4181247  0.        ]\n",
      " [0.         0.         0.12722257 ... 0.         0.7301468  0.        ]\n",
      " [0.03972562 0.8033125  0.4548332  ... 1.1299174  1.0635403  0.00351999]]\n",
      "[1 1 0 0 0 0 1 1 1 1 1 1 0 0 0 0 1 0 1 1 1 1 1 1 1 0 1 0 1 0 1 1 0 0 1 1 1\n",
      " 0 1 1 0 1 0 1 0 0 0 0 0 1 0 1 0 1 1 1 1 1 0 0 0 1 0 0 1 1 1 1 1 1 1 1 1 1\n",
      " 0 1 0 0 0 0 0 0 1 1 1 1 1 0 1 1 1 0 1 1 0 0 0 0 0 0 1 1 1 1 1 0 0 1 1 1 1\n",
      " 0 1 0 0 1 1 1 1 0 1 1 1 0 1 1 1 0 0 0 0 1 0 1 1 1 0 0 0 0 0 0 1 0 1 1 1 1\n",
      " 1 1 0 0 0 1 0 0 0 1 1 1 1 1 1 0 0 1 1 1 1 1 1 1 0 1 1 1 0 1 0 1 1 0 1 0 0\n",
      " 0 1 0 1 0 0 1 0 1 0 0 0 0 1 0 0 0 1 0 1 1 1 0 1 1 0 1 1 1 0 0 1 1 0 1 0 1\n",
      " 0 1 0 1 1 0 0 0 0 0 1 1 0 0 0 1 1 0 0 1 1 1 1 1 1 0 0 1 1 0 0 0 1 0 0 0 0\n",
      " 0 0 1 1 1 0 1 1 1 0 1 0 1 1 0 1 1 0 0 1 1 0 0 0 1 0 1 0 1 1 0 1 1 1 0 0 0\n",
      " 0 0 0 1 0 0 0 1 0 1 0 1 0 0 1 0 0 1 1 0 1 0 0 1 1 1 1 1 0 1 1 1 0 1 1 1 1\n",
      " 1 1 0 0 0 1 0 0 0 0 0 1 1 1 1 0 1 0 1 1 0 1 0 0 1 1 1 1 0 0 0 1 1 1 0 1 1\n",
      " 1 1 0 0 0 0 0 1 0 1 1 0 1 0 1 0 1 0 1 0 0 0 0 1 0 1 1 0 0 0 0 1 0 0 0 0 0\n",
      " 0 0 0 1 1 1 0 1 0 0 0 1 0 1 0 1 1 0 1 1 1 0 0 1 0 0 0 0 0 0 0 1 1 0 1 1 1\n",
      " 0 0 0 0 1 1 1 0 0 0 0 1 0 1 0 1 0 1 0 0 0 0 1 0 1 1 1 0 1 1 0 0 0 0 1 0 0\n",
      " 1 1 0 1 1 1 1 0 1 1 1 1 0 1 1 0 0 1 1 1 0 1 0 1 0 0 0 0 1 1 0 0 1 1 1 1 1\n",
      " 1 1 1 0 0 0 1 0 1 0 1 0 0 0 1 0 1 1 0 1 0 0 1 0 1 0 1 0 0 1 0 0 1 0 0 0 1\n",
      " 1 0 1 0 0 0 0 1 1 0 1 0 1 1 1 0 0 1 0 1 1 0 1 1 1 0 0 0 1 1 0 0 0 1 0 1 1\n",
      " 1 0 1 0 0 0 1 1 1 0 0 0 0 0 1 1 0 0 0 0 1 1 0 0 1 1 1 0 0 1 0 1 1 0 0 1 1\n",
      " 0 1 0 1 0 0 1 1 1 1 1 0 0 0 0 1 0 1 0 0 0 0 0 0 0 0 1 0 0 1 1 1 0 0 1 1 0\n",
      " 0 1 1 1 1 1 1 0 1 0 0 1 0 0 1 1 1 1 0 1 1 1 0 0 0 0 0 0 0 0 1 0 0 0 1 1 1\n",
      " 0 0 0 0 0 0 1 0 1 1 0 1 0 0 0 0 1 0 1 0 0 0 1 0 1 1 1 0 1 1 0 0 0 1 0 1 1\n",
      " 1 0 1 1 0 0 1 0 1 0 1 0 0 0 0 0 1 0 1 0 1 1 0 1 1 0 1 0 1 1 0 0 0 0 1 0 0\n",
      " 1 0 0 1 0 0 0 0 0 0 1 1 0 0 0 1 1 1 1 0 0 1 0 0 0 1 1 1 0 1 1 0 0 0 0 1 1\n",
      " 1 0 1 0 1 1 0 0 0 0 0 1 1 1 1 0 0 1 1 1 1 0 0 0 0 1 1 0 1 1 0 1 1 0 0 1 1\n",
      " 0 1 1 1 0 1 1 0 1 0 0 0 0 0 1 1 1 1 1 1 1 1 1 0 0 0 0 1 0 0 1 1 0 0 1 1 0\n",
      " 1 1 0 0 1 1 1 0 1 0 0 1 1 0 1 0]\n",
      "452 452\n"
     ]
    }
   ],
   "source": [
    "def fun(arr1, arr2):\n",
    "    assert len(arr1) == len(arr2)\n",
    "    p = np.random.permutation(len(arr1))\n",
    "    return arr1[p], arr2[p]\n",
    "\n",
    "# Calling this function\n",
    "x,y = fun(x,y)\n",
    "\n",
    "# x=x[0:6]\n",
    "# y=y[0:6]\n",
    "# x1=x1[0:10]\n",
    "# y1=y1[0:10]\n",
    "\n",
    "print(x)\n",
    "print(y)\n",
    "\n",
    "counta = 0\n",
    "countb = 0\n",
    "countc = 0\n",
    "for i in range(len(y)):\n",
    "    if y[i] == 0:\n",
    "        counta+=1\n",
    "    elif y[i] == 1:\n",
    "        countb+=1\n",
    "    else: countc+=1\n",
    "print(counta, countb)"
   ]
  },
  {
   "cell_type": "code",
   "execution_count": null,
   "metadata": {},
   "outputs": [
    {
     "name": "stdout",
     "output_type": "stream",
     "text": [
      "weights [1.34676341e-01 7.73190951e-02 3.22208784e-01 2.93453363e-01\n",
      " 5.71314869e-01 2.10255471e-01 6.63007068e-01 2.47786233e-01\n",
      " 4.26884238e-01 5.31164579e-01 4.31700023e-01 4.23170831e-01\n",
      " 9.34493167e-01 5.71945925e-01 5.45784984e-01 6.75865515e-01\n",
      " 7.41115715e-01 5.24608414e-01 1.06440131e-01 6.32675416e-01\n",
      " 9.04719036e-01 8.47277637e-02 1.30933348e-02 9.44622051e-01\n",
      " 2.78003620e-01 2.18310070e-01 7.37452811e-01 6.84077731e-03\n",
      " 4.44028252e-01 2.18448361e-01 8.01867413e-01 2.11665009e-01\n",
      " 3.25588287e-01 7.29806934e-01 1.31184697e-01 9.20823382e-01\n",
      " 3.43198270e-02 1.09594707e-01 9.62711101e-01 1.18148837e-01\n",
      " 9.81271633e-01 6.32392062e-01 7.08831956e-01 7.37757321e-01\n",
      " 5.63711991e-01 5.00694394e-01 4.05111651e-01 9.10520438e-01\n",
      " 1.42017515e-02 1.28544313e-01 1.89145892e-01 7.32461091e-01\n",
      " 1.82600748e-02 8.15808188e-01 9.06415392e-01 1.13141454e-01\n",
      " 9.58997582e-01 6.79218670e-01 4.17991771e-01 9.54847419e-01\n",
      " 6.64587322e-01 6.15744280e-01 2.27254144e-01 6.18832447e-01\n",
      " 1.20444518e-01 3.41141306e-01 9.68326584e-01 8.81940956e-01\n",
      " 8.98620391e-01 2.02687603e-01 2.25211070e-01 3.93757818e-01\n",
      " 5.23309093e-01 3.36623474e-01 5.78175680e-01 4.28495099e-01\n",
      " 7.86391980e-01 9.90333218e-01 3.44576412e-01 4.21504351e-01\n",
      " 7.78543935e-01 5.20595769e-01 2.12479543e-01 1.00836082e-01\n",
      " 5.99700754e-01 3.14606213e-01 8.80044934e-01 8.59346364e-02\n",
      " 8.83172694e-01 2.29187895e-01 8.99037043e-01 4.68772800e-01\n",
      " 5.73377993e-01 6.55721175e-01 7.72129181e-01 4.26150040e-01\n",
      " 1.63729274e-01 6.50335211e-01 9.42830795e-01 1.34519991e-01\n",
      " 2.84835725e-01 3.37259384e-01 3.01075779e-02 1.11603870e-01\n",
      " 8.98135012e-01 5.14403360e-01 8.11171851e-01 5.92644751e-01\n",
      " 2.45760265e-01 5.38559446e-01 4.59294798e-01 8.26424341e-01\n",
      " 6.78358779e-01 8.57190653e-01 9.52010297e-01 4.00461980e-02\n",
      " 5.87578572e-01 8.12149511e-01 6.39676309e-01 8.50704705e-01\n",
      " 3.22326024e-02 1.88627271e-01 2.88943309e-01 5.23180036e-01\n",
      " 6.77586902e-01 6.46656089e-05 7.09511809e-02 2.04658589e-01\n",
      " 3.20582518e-01 5.42230662e-01 8.53637509e-01 8.31331781e-01]\n",
      "objective function value [0.5044291810926028]\n"
     ]
    },
    {
     "data": {
      "image/png": "[encoded data removed]",
      "text/plain": [
       "<Figure size 640x480 with 1 Axes>"
      ]
     },
     "metadata": {},
     "output_type": "display_data"
    }
   ],
   "source": [
    "sampler_classifier.fit(x,y)"
   ]
  },
  {
   "cell_type": "code",
   "execution_count": null,
   "metadata": {},
   "outputs": [
    {
     "name": "stdout",
     "output_type": "stream",
     "text": [
      "Accuracy from the train data: 100.0%\n"
     ]
    }
   ],
   "source": [
    "print(f\"Accuracy from the train data: {np.round(100 * sampler_classifier.score(x, y), 2)}%\")"
   ]
  },
  {
   "cell_type": "code",
   "execution_count": null,
   "metadata": {},
   "outputs": [
    {
     "name": "stdout",
     "output_type": "stream",
     "text": [
      "Accuracy from the test data: 50.0%\n"
     ]
    }
   ],
   "source": [
    "y_predict = sampler_classifier.predict(x1)\n",
    "print(f\"Accuracy from the test data: {np.round(100 * sampler_classifier.score(x1, y1), 2)}%\")"
   ]
  },
  {
   "cell_type": "code",
   "execution_count": null,
   "metadata": {},
   "outputs": [
    {
     "data": {
      "image/png": "[encoded data removed]",
      "text/plain": [
       "<Figure size 1000x600 with 4 Axes>"
      ]
     },
     "metadata": {},
     "output_type": "display_data"
    }
   ],
   "source": [
    "fig, ax = plt.subplots(2, 2, figsize=(10, 6), subplot_kw={\"xticks\": [], \"yticks\": []})\n",
    "for i in range(0, 4):\n",
    "    ax[i // 2, i % 2].imshow(x1[i].reshape(4, 4), aspect=\"equal\")\n",
    "    if y_predict[i] == 0:\n",
    "        ax[i // 2, i % 2].set_title(\"The QNN predicts this is 3\")\n",
    "    if y_predict[i] == 1:\n",
    "        ax[i // 2, i % 2].set_title(\"The QNN predicts this 4\")\n",
    "    if y_predict[i] == 2:\n",
    "        ax[i // 2, i % 2].set_title(\"The QNN predicts this 5\")   \n",
    "    if y_predict[i] == 3:\n",
    "        ax[i // 2, i % 2].set_title(\"The QNN predicts this 6\") \n",
    "plt.subplots_adjust(wspace=0.1, hspace=0.5)"
   ]
  },
  {
   "cell_type": "code",
   "execution_count": null,
   "metadata": {},
   "outputs": [
    {
     "data": {
      "text/plain": [
       "array([1, 0, 0, 1, 1, 0, 0, 0, 0, 0], dtype=int64)"
      ]
     },
     "execution_count": 144,
     "metadata": {},
     "output_type": "execute_result"
    }
   ],
   "source": [
    "y_predict"
   ]
  },
  {
   "cell_type": "code",
   "execution_count": null,
   "metadata": {},
   "outputs": [
    {
     "data": {
      "text/plain": [
       "array([1, 0, 1, 0, 0, 1, 1, 0, 0, 0])"
      ]
     },
     "execution_count": 145,
     "metadata": {},
     "output_type": "execute_result"
    }
   ],
   "source": [
    "y1"
   ]
  },
  {
   "cell_type": "code",
   "execution_count": null,
   "metadata": {},
   "outputs": [
    {
     "data": {
      "text/plain": [
       "array([0.21345011, 1.72601699, 0.19968601, 0.71100134, 1.0131314 ,\n",
       "       1.63883047, 0.31437906, 0.1343702 , 0.27830223, 0.25446905,\n",
       "       0.51971782, 1.30251302, 1.05452029, 0.1726625 , 0.66103942,\n",
       "       1.05796606, 1.91476529, 0.38996832, 1.92484175, 0.42633541,\n",
       "       0.69985387, 0.7894824 , 0.1778609 , 0.74319914, 0.25918788,\n",
       "       0.99317172, 0.00935137, 0.68592271, 0.68522907, 0.15892082,\n",
       "       0.07525929, 0.96947647, 0.14744429, 0.75961825, 0.51541941,\n",
       "       0.57660246, 0.39450938, 0.36215328, 0.34707426, 0.40861333,\n",
       "       0.83137168, 0.04929068, 0.50394527, 0.67331121, 0.82850505,\n",
       "       0.85898287, 0.02965496, 0.45469644, 0.85271748, 0.5326538 ,\n",
       "       0.62658183, 0.63584332, 0.53735224, 0.734075  , 0.77616992,\n",
       "       0.6494329 , 0.35916017, 0.76692066, 0.76575788, 0.56288243,\n",
       "       0.11309712, 0.67226704, 0.24773613, 0.09600041, 0.1781242 ,\n",
       "       0.88590023, 0.12875365, 0.32385934, 0.93444519, 0.88137208,\n",
       "       0.12512265, 0.23488427, 0.15892972, 0.39310932, 0.12465968,\n",
       "       0.65557284, 0.77349465, 0.16533087, 0.65686205, 0.95778641,\n",
       "       0.55938448, 0.87484619, 0.94391936, 0.3770135 , 0.17052277,\n",
       "       0.18644145, 0.41241787, 0.44669422, 0.13584776, 0.65996575,\n",
       "       0.12368064, 0.76658011, 0.56922554, 0.86881901, 0.10871088,\n",
       "       0.70543159, 0.84678537, 0.00729469, 0.02366985, 0.57563822,\n",
       "       0.20160237, 0.53321837, 0.20246853, 0.89853684, 0.91934224,\n",
       "       0.75863378, 0.07867822, 0.92086211, 0.73130153, 0.17338521,\n",
       "       0.16053436, 0.47511682, 0.98332804, 0.37447658, 0.94628787,\n",
       "       0.84037576, 0.36882397, 0.91055933, 0.63911706, 0.6098748 ,\n",
       "       0.38192718, 0.11218009, 0.49777171, 0.31243536, 0.08827049,\n",
       "       0.14794017, 0.30266142, 0.80423738, 0.38937549, 0.46917039,\n",
       "       0.26945935, 0.30528428])"
      ]
     },
     "execution_count": 146,
     "metadata": {},
     "output_type": "execute_result"
    }
   ],
   "source": [
    "weight = sampler_classifier.weights \n",
    "weight"
   ]
  },
  {
   "cell_type": "code",
   "execution_count": null,
   "metadata": {},
   "outputs": [],
   "source": [
    "sampler_classifier.save(\"model1\")"
   ]
  }
 ],
 "metadata": {
  "kernelspec": {
   "display_name": "qiskit",
   "language": "python",
   "name": "python3"
  },
  "language_info": {
   "codemirror_mode": {
    "name": "ipython",
    "version": 3
   },
   "file_extension": ".py",
   "mimetype": "text/x-python",
   "name": "python",
   "nbconvert_exporter": "python",
   "pygments_lexer": "ipython3",
   "version": "3.10.14"
  }
 },
 "nbformat": 4,
 "nbformat_minor": 2
}
