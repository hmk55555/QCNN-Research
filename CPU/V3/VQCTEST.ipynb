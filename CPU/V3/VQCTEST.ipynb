{
 "cells": [
  {
   "cell_type": "code",
   "execution_count": 1,
   "metadata": {},
   "outputs": [],
   "source": [
    "import json\n",
    "import numpy as np\n",
    "import matplotlib.pyplot as plt\n",
    "from IPython.display import clear_output\n",
    "from qiskit import QuantumCircuit\n",
    "from qiskit_machine_learning.circuit.library import QNNCircuit\n",
    "from qiskit.circuit import ParameterVector\n",
    "from qiskit.circuit.library import ZFeatureMap, ZZFeatureMap, RealAmplitudes\n",
    "from qiskit.quantum_info import SparsePauliOp\n",
    "from qiskit_algorithms.utils import algorithm_globals\n",
    "from qiskit_machine_learning.algorithms.classifiers import NeuralNetworkClassifier\n",
    "from qiskit_machine_learning.neural_networks import EstimatorQNN, SamplerQNN\n",
    "from sklearn.model_selection import train_test_split\n",
    "from qiskit_algorithms.optimizers import COBYLA, SPSA, QNSPSA, SLSQP, ADAM, GradientDescent\n",
    "from qiskit_machine_learning.algorithms.classifiers import NeuralNetworkClassifier, VQC\n",
    "from qiskit_machine_learning.connectors import TorchConnector\n",
    "from torch import Tensor\n",
    "from torch.nn import Linear, CrossEntropyLoss, MSELoss\n",
    "from torch.optim import LBFGS"
   ]
  },
  {
   "cell_type": "code",
   "execution_count": 2,
   "metadata": {},
   "outputs": [
    {
     "name": "stdout",
     "output_type": "stream",
     "text": [
      "Number of original training examples: 60000\n",
      "Number of original test examples: 10000\n"
     ]
    }
   ],
   "source": [
    "import tensorflow as tf\n",
    "import collections\n",
    "(x_train, y_train), (x_test, y_test) = tf.keras.datasets.mnist.load_data()\n",
    "x_train, x_test = x_train[..., np.newaxis]/255.0, x_test[..., np.newaxis]/255.0\n",
    "print(\"Number of original training examples:\", len(x_train))\n",
    "print(\"Number of original test examples:\", len(x_test))"
   ]
  },
  {
   "cell_type": "code",
   "execution_count": 3,
   "metadata": {},
   "outputs": [],
   "source": [
    "def filter_3649(x, y):\n",
    "    keep = (y == 2) | (y == 4) | (y == 9)\n",
    "    x, y = x[keep], y[keep]\n",
    "    # y = y == 3\n",
    "    return x,y"
   ]
  },
  {
   "cell_type": "code",
   "execution_count": 4,
   "metadata": {},
   "outputs": [
    {
     "name": "stdout",
     "output_type": "stream",
     "text": [
      "Number of filtered training examples: 17749\n",
      "Number of filtered test examples: 3023\n"
     ]
    }
   ],
   "source": [
    "x_train, y_train = filter_3649(x_train, y_train)\n",
    "x_test, y_test = filter_3649(x_test, y_test)\n",
    "\n",
    "print(\"Number of filtered training examples:\", len(x_train))\n",
    "print(\"Number of filtered test examples:\", len(x_test))"
   ]
  },
  {
   "cell_type": "code",
   "execution_count": 5,
   "metadata": {},
   "outputs": [
    {
     "name": "stdout",
     "output_type": "stream",
     "text": [
      "4\n"
     ]
    },
    {
     "data": {
      "text/plain": [
       "<matplotlib.colorbar.Colorbar at 0x1f069250dd0>"
      ]
     },
     "execution_count": 5,
     "metadata": {},
     "output_type": "execute_result"
    },
    {
     "data": {
      "image/png": "[encoded data removed]",
      "text/plain": [
       "<Figure size 640x480 with 2 Axes>"
      ]
     },
     "metadata": {},
     "output_type": "display_data"
    }
   ],
   "source": [
    "print(y_train[0])\n",
    "\n",
    "plt.imshow(x_train[0, :, :, 0])\n",
    "plt.colorbar()"
   ]
  },
  {
   "cell_type": "code",
   "execution_count": 6,
   "metadata": {},
   "outputs": [],
   "source": [
    "x_train_small = tf.image.resize(x_train, (4,4)).numpy()\n",
    "x_test_small = tf.image.resize(x_test, (4,4)).numpy()"
   ]
  },
  {
   "cell_type": "code",
   "execution_count": 7,
   "metadata": {},
   "outputs": [
    {
     "name": "stdout",
     "output_type": "stream",
     "text": [
      "4\n"
     ]
    },
    {
     "data": {
      "text/plain": [
       "<matplotlib.colorbar.Colorbar at 0x1f06a6d7d10>"
      ]
     },
     "execution_count": 7,
     "metadata": {},
     "output_type": "execute_result"
    },
    {
     "data": {
      "image/png": "[encoded data removed]",
      "text/plain": [
       "<Figure size 640x480 with 2 Axes>"
      ]
     },
     "metadata": {},
     "output_type": "display_data"
    }
   ],
   "source": [
    "print(y_train[0])\n",
    "\n",
    "plt.imshow(x_train_small[0,:,:,0], vmin=0, vmax=1)\n",
    "plt.colorbar()"
   ]
  },
  {
   "cell_type": "code",
   "execution_count": 8,
   "metadata": {},
   "outputs": [],
   "source": [
    "def remove_contradicting(xs, ys):\n",
    "    mapping = collections.defaultdict(set)\n",
    "    orig_x = {}\n",
    "    # Determine the set of labels for each unique image:\n",
    "    for x,y in zip(xs,ys):\n",
    "       orig_x[tuple(x.flatten())] = x\n",
    "       mapping[tuple(x.flatten())].add(y)\n",
    "    \n",
    "    new_x = []\n",
    "    new_y = []\n",
    "    for flatten_x in mapping:\n",
    "      x = orig_x[flatten_x]\n",
    "      labels = mapping[flatten_x]\n",
    "      if len(labels) == 1:\n",
    "          new_x.append(x)\n",
    "          new_y.append(next(iter(labels)))\n",
    "      else:\n",
    "          # Throw out images that match more than one label.\n",
    "          pass\n",
    "\n",
    "    num_uniq_3 = sum(1 for value in mapping.values() if len(value) == 1 and 1 in value)\n",
    "    num_uniq_6 = sum(1 for value in mapping.values() if len(value) == 1 and 2 in value)\n",
    "    num_uniq_4 = sum(1 for value in mapping.values() if len(value) == 1 and 4 in value)\n",
    "    num_uniq_9 = sum(1 for value in mapping.values() if len(value) == 1 and 9 in value)\n",
    "    num_uniq_both = sum(1 for value in mapping.values() if len(value) >= 2)\n",
    "\n",
    "    print(\"Number of unique images:\", len(mapping.values()))\n",
    "    print(\"Number of unique 3s: \", num_uniq_3)\n",
    "    print(\"Number of unique 6s: \", num_uniq_6)\n",
    "    print(\"Number of unique 4s: \", num_uniq_4)\n",
    "    print(\"Number of unique 9s: \", num_uniq_9)\n",
    "    print(\"Number of unique contradicting labels: \", num_uniq_both)\n",
    "    print()\n",
    "    print(\"Initial number of images: \", len(xs))\n",
    "    print(\"Remaining non-contradicting unique images: \", len(new_x))\n",
    "    \n",
    "    return np.asarray(new_x), np.asarray(new_y)"
   ]
  },
  {
   "cell_type": "code",
   "execution_count": 9,
   "metadata": {},
   "outputs": [
    {
     "name": "stdout",
     "output_type": "stream",
     "text": [
      "Number of unique images: 16016\n",
      "Number of unique 3s:  0\n",
      "Number of unique 6s:  5055\n",
      "Number of unique 4s:  5215\n",
      "Number of unique 9s:  5474\n",
      "Number of unique contradicting labels:  272\n",
      "\n",
      "Initial number of images:  17749\n",
      "Remaining non-contradicting unique images:  15744\n",
      "Number of unique images: 2866\n",
      "Number of unique 3s:  0\n",
      "Number of unique 6s:  937\n",
      "Number of unique 4s:  934\n",
      "Number of unique 9s:  964\n",
      "Number of unique contradicting labels:  31\n",
      "\n",
      "Initial number of images:  3023\n",
      "Remaining non-contradicting unique images:  2835\n"
     ]
    }
   ],
   "source": [
    "resized_train_images, train_labels = remove_contradicting(x_train_small, y_train)\n",
    "resized_test_images, test_labels = remove_contradicting(x_test_small, y_test)"
   ]
  },
  {
   "cell_type": "code",
   "execution_count": 10,
   "metadata": {},
   "outputs": [],
   "source": [
    "def callback_graph(weights, obj_func_eval):\n",
    "    clear_output(wait=True)\n",
    "    objective_func_vals.append(obj_func_eval)\n",
    "    \n",
    "  \n",
    "    print(\"weights\", weights)\n",
    "    print(\"objective function value\", objective_func_vals)\n",
    "    \n",
    "    plt.title(\"Objective function value against iteration\")\n",
    "    plt.xlabel(\"Iteration\")\n",
    "    plt.ylabel(\"Objective function value\")\n",
    "    plt.plot(range(len(objective_func_vals)), objective_func_vals)\n",
    "    plt.show()"
   ]
  },
  {
   "cell_type": "code",
   "execution_count": 11,
   "metadata": {},
   "outputs": [],
   "source": [
    "num_inputs = 16\n",
    "feature_map = ZZFeatureMap(num_inputs, reps = 2)\n",
    "ansatz = RealAmplitudes(num_inputs, reps=10, entanglement = 'pairwise')\n",
    "weights = [1.04381489e+00,2.56445119e-01,4.75863896e-01,1.79697998e+00\n",
    ",1.04319866e+00,1.90595848e+00,9.76042547e-01,1.94419766e+00\n",
    ",4.46928434e-02,9.33787565e-01,1.84951278e+00,7.90443662e-02\n",
    ",1.36373777e-01,9.48211612e-01,6.74580123e-01,3.30497103e-01\n",
    ",1.69980506e+00,1.59008947e+00,1.35973266e+00,8.77885861e-01\n",
    ",8.12160115e-01,9.73735060e-01,8.49664701e-01,5.45921526e-01\n",
    ",6.25468236e-01,1.13481798e-01,4.07679294e-01,1.60033804e-01\n",
    ",1.21611132e+00,5.74108657e-01,5.81311272e-01,9.22507181e-01\n",
    ",3.64464788e-01,7.96490747e-01,8.27495209e-01,1.16684015e-01\n",
    ",5.04817731e-01,2.41778399e-01,7.86607855e-01,5.43667542e-01\n",
    ",8.44044831e-01,9.05138628e-01,7.41847189e-01,6.04923537e-01\n",
    ",9.37590543e-02,5.17390495e-01,2.19731759e-01,4.18516922e-01\n",
    ",3.65254305e-01,5.25626107e-01,4.62018400e-01,9.30902892e-01\n",
    ",5.12162073e-01,4.71171727e-01,9.24679637e-01,1.99878373e-01\n",
    ",2.70560885e-01,1.95833873e-01,9.65712187e-01,2.19396367e-01\n",
    ",2.77692556e-01,7.89521972e-01,3.46442495e-01,9.88212123e-01\n",
    ",9.24325229e-01,7.35867001e-01,2.24663029e-01,7.15425365e-01\n",
    ",7.59365703e-01,6.26600425e-01,8.24088368e-01,9.81536318e-02\n",
    ",5.00558748e-02,7.30789086e-01,7.87650394e-01,4.13989517e-01\n",
    ",7.87661434e-01,9.26172045e-02,2.24489312e-01,2.68006180e-02\n",
    ",2.78577616e-01,2.50683852e-01,6.96179594e-01,2.87662017e-01\n",
    ",7.21760369e-01,8.05089812e-01,8.92651523e-02,9.41327958e-01\n",
    ",9.32996689e-01,1.00459878e-01,2.74863350e-01,7.03657415e-01\n",
    ",4.02377972e-01,1.33163809e-01,3.25972443e-01,5.30548474e-01\n",
    ",6.89484805e-01,6.43456597e-01,9.11330284e-01,9.57563987e-01\n",
    ",2.41537809e-01,4.90146726e-01,1.33267877e-01,3.73725362e-01\n",
    ",7.76952854e-01,8.08161203e-01,5.26909780e-01,1.77024984e-03\n",
    ",8.80369913e-02,9.51060074e-01,1.05152651e-02,1.27238326e-03\n",
    ",6.97007582e-01,5.64364889e-01,3.36916619e-01,7.24180774e-01\n",
    ",2.76397214e-01,9.32245348e-01,3.83853081e-01,5.18243215e-02\n",
    ",6.20984537e-01,8.69293148e-01,4.76968264e-01,4.14403954e-01\n",
    ",1.22678222e-01,4.51357543e-01,6.95313650e-01,6.98426544e-01\n",
    ",8.36293561e-01,2.75993360e-01,2.98747768e-01,8.81500087e-01\n",
    ",7.04825084e-01,8.90673064e-01,8.92012103e-01,1.79968926e-01\n",
    ",2.61664504e-01,4.75165527e-01,2.64951678e-01,4.83790432e-01\n",
    ",8.85477600e-01,4.43750710e-01,5.72395151e-01,1.80666271e-01\n",
    ",4.23631867e-01,5.90291920e-01,3.84616702e-01,6.47636764e-01\n",
    ",1.49829720e-01,7.76364274e-01,9.95455634e-01,6.25401113e-01\n",
    ",3.95909315e-01,6.36298267e-02,8.86471724e-01,1.35823875e-01\n",
    ",3.68473326e-01,8.73670215e-01,2.40397937e-01,9.83492786e-01\n",
    ",3.94434904e-01,1.63291493e-01,8.21390767e-01,2.72766905e-01\n",
    ",8.67587651e-01,6.52176537e-01,3.13328928e-01,4.54670111e-01\n",
    ",4.20662695e-01,9.61406395e-01,1.52858479e-01,1.20563617e-01\n",
    ",6.01923090e-01,5.86985189e-01,6.30973528e-01,8.11048369e-01]\n",
    "\n",
    "#  weights = [0.13481915 1.50611058 1.56262014 1.50015389 1.39160934 1.56193262\n",
    "#  0.27765409 1.70032275 0.86051733 0.0735327  0.95293547 1.76873394\n",
    "#  0.64998344 0.48614747 0.12926366 0.43096128 0.30018989 0.9702364\n",
    "#  0.15785657 1.13390664 0.84934733 0.42154056 0.93716932 0.54311644\n",
    "#  0.50682508 0.48317288 1.15416104 1.99061476 1.29438285 0.36334624\n",
    "#  0.8985001  0.4471158  0.37840816 0.15256982 0.52144478 0.3700083\n",
    "#  0.26239546 0.84922159 0.9577151  0.26674097 0.64495168 0.33047589\n",
    "#  0.67377122 0.90953842 0.71423471 0.42334928 0.0032611  0.83543539\n",
    "#  0.88669264 0.99043674 0.71631231 0.71228866 0.80742238 0.90781306\n",
    "#  0.25298772 0.58101076 0.86419399 0.19983204 0.03470823 0.84468234\n",
    "#  0.73740292 0.7817162  0.14366909 0.62608322 0.0294518  0.1971866\n",
    "#  0.55829743 0.44526973 0.39530846 0.03208847 0.52542653 0.5802067\n",
    "#  0.85654836 0.69236882 0.38482838 0.83799974 0.7133025  0.39118172\n",
    "#  0.22208527 0.4523234  0.97617413 0.74778346 0.47345196 0.24303363\n",
    "#  0.19660515 0.94323655 0.12908269 0.78383233 0.32893903 0.08092164\n",
    "#  0.81014285 0.87712201 0.53227796 0.97319222 0.70351817 0.29307241\n",
    "#  0.41368903 0.9861649  0.45515514 0.13766437 0.29211231 0.4212242\n",
    "#  0.80968633 0.66645838 0.84523229 0.43465311 0.28111861 0.20883336\n",
    "#  0.99299555 0.20821255 0.29457338 0.97058611 0.92502003 0.20987457\n",
    "#  0.36271945 0.6867945  0.14706893 0.02916717 0.70887333 0.36806808\n",
    "#  0.88513181 0.92472992 0.97341428 0.86597279 0.35367663 0.66968212\n",
    "#  0.76712941 0.46463591 0.17235383 0.77127967 0.65533756 0.17022252\n",
    "#  0.09485729 0.14200325 0.40418287 0.90697016 0.37806695 0.55242659\n",
    "#  0.60100574 0.3783111  0.63823206 0.11417934 0.8180545  0.7873124\n",
    "#  0.64246266 0.03388347 0.67464173 0.23189445 0.34731615 0.89601624\n",
    "#  0.48750248 0.97197522 0.56959339 0.17044498 0.10933407 0.45782791\n",
    "#  0.09641331 0.57788015 0.32315581 0.70421846 0.3263225  0.51587299\n",
    "#  0.43057217 0.06408476 0.04810956 0.83139252 0.81999029 0.43340617\n",
    "#  0.33933778 0.67919046 0.24002798 0.11951999 0.73739118 0.47948978\n",
    "#  0.95991374 0.88294117]"
   ]
  },
  {
   "cell_type": "code",
   "execution_count": 12,
   "metadata": {},
   "outputs": [],
   "source": [
    "classifier = VQC(\n",
    "    feature_map = feature_map,\n",
    "    ansatz = ansatz,\n",
    "    optimizer=COBYLA(maxiter=30),\n",
    "    callback=callback_graph,\n",
    "    warm_start = True\n",
    "    )"
   ]
  },
  {
   "cell_type": "code",
   "execution_count": 13,
   "metadata": {},
   "outputs": [
    {
     "name": "stdout",
     "output_type": "stream",
     "text": [
      "[[0.         0.         0.         0.         0.         0.09411765\n",
      "  0.99607843 0.         0.         0.7411765  0.         0.\n",
      "  0.         0.         0.         0.        ]\n",
      " [0.         0.         0.         0.         0.         0.8745098\n",
      "  0.7764706  0.         0.         0.         0.         0.\n",
      "  0.         0.         0.         0.        ]\n",
      " [0.         0.         0.         0.         0.         0.99607843\n",
      "  0.7058824  0.         0.         0.         0.23529412 0.\n",
      "  0.         0.         0.15294118 0.        ]\n",
      " [0.         0.         0.         0.         0.         0.\n",
      "  0.99607843 0.         0.         0.49019608 0.         0.\n",
      "  0.         0.         0.         0.        ]\n",
      " [0.         0.         0.         0.         0.         0.91764706\n",
      "  0.07058824 0.         0.         0.99215686 0.99215686 0.\n",
      "  0.         0.         0.         0.        ]\n",
      " [0.         0.98039216 0.         0.         0.         0.\n",
      "  0.9764706  0.         0.         0.10980392 0.         0.\n",
      "  0.         0.         0.         0.        ]\n",
      " [0.         0.         0.         0.         0.         0.5686275\n",
      "  0.78431374 0.         0.         0.2        0.99215686 0.\n",
      "  0.         0.         0.9843137  0.        ]\n",
      " [0.         0.         0.         0.         0.         0.\n",
      "  0.78039217 0.         0.         0.         0.         0.\n",
      "  0.         0.         0.         0.        ]\n",
      " [0.         0.         0.         0.         0.         0.99215686\n",
      "  0.         0.         0.         0.         0.         0.\n",
      "  0.         0.         0.627451   0.        ]\n",
      " [0.         0.         0.         0.         0.         0.\n",
      "  0.         0.         0.         0.05490196 0.99215686 0.\n",
      "  0.         0.         0.         0.        ]\n",
      " [0.         0.         0.         0.         0.         0.\n",
      "  0.9882353  0.         0.         0.69803923 0.         0.\n",
      "  0.         0.         0.         0.        ]\n",
      " [0.         0.         0.         0.         0.         0.7137255\n",
      "  0.99607843 0.         0.         0.         0.         0.\n",
      "  0.         0.         0.         0.        ]\n",
      " [0.         0.         0.         0.         0.         0.8901961\n",
      "  0.81960785 0.         0.         0.         0.         0.\n",
      "  0.         0.         0.         0.        ]\n",
      " [0.         0.         0.         0.         0.         0.8666667\n",
      "  0.7019608  0.         0.         0.46666667 1.         0.\n",
      "  0.         0.         0.         0.        ]\n",
      " [0.         0.02352941 0.5058824  0.         0.         0.\n",
      "  0.81960785 0.         0.         0.2784314  0.         0.\n",
      "  0.         0.         0.         0.        ]\n",
      " [0.         0.         0.         0.         0.         0.99215686\n",
      "  0.99215686 0.         0.         0.         0.62352943 0.\n",
      "  0.         0.         0.         0.        ]\n",
      " [0.         0.         0.         0.         0.         0.99607843\n",
      "  0.52156866 0.         0.         0.         0.3372549  0.\n",
      "  0.         0.         0.         0.        ]\n",
      " [0.         0.         0.99215686 0.         0.         0.\n",
      "  0.9137255  0.         0.         0.7058824  0.         0.\n",
      "  0.         0.         0.         0.        ]\n",
      " [0.         0.         0.         0.         0.         0.8039216\n",
      "  0.99607843 0.         0.         0.9764706  0.5411765  0.\n",
      "  0.         0.         0.         0.        ]\n",
      " [0.         0.         0.         0.         0.         0.78039217\n",
      "  0.99607843 0.         0.         0.         0.03529412 0.\n",
      "  0.         0.         0.         0.        ]\n",
      " [0.         0.         0.         0.         0.         0.99215686\n",
      "  0.99607843 0.         0.         0.         0.         0.\n",
      "  0.         0.9882353  0.         0.        ]\n",
      " [0.         0.         0.         0.         0.         0.\n",
      "  0.8745098  0.         0.         0.6627451  0.         0.8784314\n",
      "  0.         0.         0.         0.        ]\n",
      " [0.         0.         0.15294118 0.         0.         0.\n",
      "  0.99215686 0.         0.         0.02745098 0.         0.\n",
      "  0.         0.         0.         0.        ]\n",
      " [0.         0.         0.         0.         0.         0.9490196\n",
      "  0.99607843 0.         0.         0.00392157 0.99607843 0.\n",
      "  0.         0.         0.99607843 0.        ]\n",
      " [0.         0.         0.         0.         0.         0.7764706\n",
      "  0.9411765  0.         0.         0.         0.32941177 0.\n",
      "  0.         0.         0.         0.        ]\n",
      " [0.         0.10980392 0.         0.         0.         0.\n",
      "  0.99215686 0.         0.         0.14901961 0.         0.\n",
      "  0.         0.         0.         0.        ]\n",
      " [0.         0.         0.         0.         0.         0.9764706\n",
      "  0.99215686 0.         0.         0.99607843 0.99607843 0.\n",
      "  0.         0.         0.8352941  0.        ]\n",
      " [0.         0.         0.         0.         0.         0.\n",
      "  0.7058824  0.         0.         0.         0.         0.\n",
      "  0.         0.         0.         0.        ]\n",
      " [0.         0.         0.         0.         0.         0.68235296\n",
      "  0.78039217 0.         0.         0.         0.22745098 0.\n",
      "  0.         0.         0.         0.        ]\n",
      " [0.         0.         0.         0.         0.         0.99607843\n",
      "  0.8352941  0.         0.         0.         0.         0.\n",
      "  0.         0.         0.         0.        ]\n",
      " [0.         0.         0.48235294 0.         0.         0.\n",
      "  0.9607843  0.         0.         0.9137255  0.         0.\n",
      "  0.         0.         0.         0.        ]\n",
      " [0.         0.         0.         0.         0.         0.89411765\n",
      "  0.         0.         0.         0.31764707 0.99215686 0.\n",
      "  0.         0.         0.         0.        ]\n",
      " [0.         0.         0.         0.         0.         0.\n",
      "  0.80784315 0.         0.         0.         0.         0.\n",
      "  0.         0.         0.         0.        ]\n",
      " [0.         0.35686275 0.         0.         0.         0.\n",
      "  0.25490198 0.         0.         0.99215686 0.99215686 0.05882353\n",
      "  0.         0.         0.         0.        ]\n",
      " [0.         0.         0.         0.         0.         0.40392157\n",
      "  0.         0.         0.         0.         0.45882353 0.\n",
      "  0.         0.         0.         0.        ]\n",
      " [0.         0.         0.         0.         0.         0.\n",
      "  0.59607846 0.         0.         0.08235294 0.         0.\n",
      "  0.         0.         0.         0.        ]\n",
      " [0.         0.1882353  0.08627451 0.         0.         0.\n",
      "  0.         0.         0.         0.33333334 0.9647059  0.\n",
      "  0.         0.         0.         0.        ]\n",
      " [0.         0.         0.         0.         0.         0.32156864\n",
      "  0.5803922  0.         0.30980393 0.99215686 0.50980395 0.\n",
      "  0.         0.         0.         0.        ]\n",
      " [0.         0.39215687 0.         0.         0.         0.\n",
      "  0.99607843 0.         0.         0.         0.         0.\n",
      "  0.         0.         0.         0.        ]\n",
      " [0.         0.         0.         0.         0.         0.49411765\n",
      "  0.77254903 0.         0.         0.         0.         0.\n",
      "  0.         0.         0.         0.        ]\n",
      " [0.         0.         0.         0.         0.         0.\n",
      "  0.99215686 0.         0.         0.05490196 0.         0.\n",
      "  0.         0.         0.         0.        ]\n",
      " [0.         0.6156863  0.01176471 0.         0.         0.\n",
      "  0.84705883 0.         0.         0.02745098 0.         0.\n",
      "  0.         0.         0.         0.        ]\n",
      " [0.         0.         0.         0.         0.         0.8352941\n",
      "  0.89411765 0.         0.         0.         0.25490198 0.\n",
      "  0.         0.69803923 0.         0.        ]\n",
      " [0.         0.         0.         0.         0.         0.15294118\n",
      "  0.90588236 0.         0.         0.         0.99215686 0.\n",
      "  0.         0.         0.         0.        ]\n",
      " [0.         0.         0.         0.         0.         0.\n",
      "  0.972549   0.         0.         0.76862746 0.         0.09803922\n",
      "  0.         0.         0.         0.        ]\n",
      " [0.         0.         0.         0.         0.         0.10980392\n",
      "  0.99215686 0.         0.         0.         0.5254902  0.\n",
      "  0.         0.         0.         0.        ]\n",
      " [0.         0.         0.         0.         0.         0.\n",
      "  0.16862746 0.         0.         0.7647059  0.         0.\n",
      "  0.         0.         0.         0.        ]\n",
      " [0.         0.         0.         0.         0.         0.99215686\n",
      "  0.5647059  0.         0.         0.7019608  0.98039216 0.7176471\n",
      "  0.         0.         0.         0.        ]\n",
      " [0.         0.         0.         0.         0.         0.25882354\n",
      "  0.         0.         0.         0.32941177 0.4627451  0.\n",
      "  0.         0.         0.         0.        ]\n",
      " [0.         0.         0.         0.         0.         0.8117647\n",
      "  0.7607843  0.         0.         0.18431373 0.99215686 0.\n",
      "  0.         0.         0.         0.        ]]\n",
      "[4 4 4 2 9 2 9 2 9 2 2 4 4 9 2 4 9 2 9 4 9 2 2 4 9 2 9 9 9 4 2 4 2 2 4 2 2\n",
      " 4 2 4 2 2 9 9 2 9 2 2 4 2]\n"
     ]
    }
   ],
   "source": [
    "x_reshaped = []\n",
    "x1_reshaped = []\n",
    "\n",
    "for b in resized_train_images:\n",
    "    x_reshaped.append(b.reshape(1,16))\n",
    "\n",
    "for b in resized_test_images:\n",
    "    x1_reshaped.append(b.reshape(1,16))\n",
    "\n",
    "final_x = []\n",
    "final_x1 = []\n",
    "\n",
    "for entry in x_reshaped:\n",
    "    #print(\"entry \\n\" , entry[0])\n",
    "    final_x.append(entry[0])\n",
    "\n",
    "for entry in x1_reshaped:\n",
    "    #print(\"entry \\n\" , entry[0])\n",
    "    final_x1.append(entry[0])\n",
    "\n",
    "objective_func_vals = []\n",
    "\n",
    "x = np.asarray(final_x)\n",
    "y = np.asarray(train_labels)\n",
    "\n",
    "x = x[2000:2050]\n",
    "y = y[2000:2050]\n",
    "\n",
    "print(x)\n",
    "print(y)"
   ]
  },
  {
   "cell_type": "code",
   "execution_count": 14,
   "metadata": {},
   "outputs": [
    {
     "name": "stdout",
     "output_type": "stream",
     "text": [
      "weights [0.13481915 1.50611058 1.56262014 1.50015389 1.39160934 1.56193262\n",
      " 0.27765409 1.70032275 0.86051733 0.0735327  0.95293547 1.76873394\n",
      " 0.64998344 0.48614747 0.12926366 0.43096128 0.30018989 0.9702364\n",
      " 0.15785657 1.13390664 0.84934733 0.42154056 0.93716932 0.54311644\n",
      " 0.50682508 0.48317288 1.15416104 1.99061476 1.29438285 0.36334624\n",
      " 0.8985001  0.4471158  0.37840816 0.15256982 0.52144478 0.3700083\n",
      " 0.26239546 0.84922159 0.9577151  0.26674097 0.64495168 0.33047589\n",
      " 0.67377122 0.90953842 0.71423471 0.42334928 0.0032611  0.83543539\n",
      " 0.88669264 0.99043674 0.71631231 0.71228866 0.80742238 0.90781306\n",
      " 0.25298772 0.58101076 0.86419399 0.19983204 0.03470823 0.84468234\n",
      " 0.73740292 0.7817162  0.14366909 0.62608322 0.0294518  0.1971866\n",
      " 0.55829743 0.44526973 0.39530846 0.03208847 0.52542653 0.5802067\n",
      " 0.85654836 0.69236882 0.38482838 0.83799974 0.7133025  0.39118172\n",
      " 0.22208527 0.4523234  0.97617413 0.74778346 0.47345196 0.24303363\n",
      " 0.19660515 0.94323655 0.12908269 0.78383233 0.32893903 0.08092164\n",
      " 0.81014285 0.87712201 0.53227796 0.97319222 0.70351817 0.29307241\n",
      " 0.41368903 0.9861649  0.45515514 0.13766437 0.29211231 0.4212242\n",
      " 0.80968633 0.66645838 0.84523229 0.43465311 0.28111861 0.20883336\n",
      " 0.99299555 0.20821255 0.29457338 0.97058611 0.92502003 0.20987457\n",
      " 0.36271945 0.6867945  0.14706893 0.02916717 0.70887333 0.36806808\n",
      " 0.88513181 0.92472992 0.97341428 0.86597279 0.35367663 0.66968212\n",
      " 0.76712941 0.46463591 0.17235383 0.77127967 0.65533756 0.17022252\n",
      " 0.09485729 0.14200325 0.40418287 0.90697016 0.37806695 0.55242659\n",
      " 0.60100574 0.3783111  0.63823206 0.11417934 0.8180545  0.7873124\n",
      " 0.64246266 0.03388347 0.67464173 0.23189445 0.34731615 0.89601624\n",
      " 0.48750248 0.97197522 0.56959339 0.17044498 0.10933407 0.45782791\n",
      " 0.09641331 0.57788015 0.32315581 0.70421846 0.3263225  0.51587299\n",
      " 0.43057217 0.06408476 0.04810956 0.83139252 0.81999029 0.43340617\n",
      " 0.33933778 0.67919046 0.24002798 0.11951999 0.73739118 0.47948978\n",
      " 0.95991374 0.88294117]\n",
      "objective function value [1.5856756571166801, 1.5868375436823488, 1.5845602244484878, 1.583945056440424, 1.5838824200957962, 1.5833244775039956, 1.5829701196051695, 1.5833915439860897, 1.58215427587342, 1.583464130804628, 1.5839590289037713, 1.5822460501552675, 1.5817716994137376, 1.5827431707369122, 1.5832344576792403, 1.5825671491767597, 1.5822728562284971, 1.581777160049483, 1.5826092222395238, 1.5833903715748017, 1.5815144527077267, 1.5825618285339091, 1.5817519020459405, 1.5815675261637805, 1.5829396060570227, 1.581797277503667, 1.5819615523998949, 1.5814566251739044, 1.5803460172732628, 1.582928290261272]\n"
     ]
    },
    {
     "data": {
      "image/png": "[encoded data removed]",
      "text/plain": [
       "<Figure size 640x480 with 1 Axes>"
      ]
     },
     "metadata": {},
     "output_type": "display_data"
    },
    {
     "data": {
      "text/plain": [
       "<qiskit_machine_learning.algorithms.classifiers.vqc.VQC at 0x1f06a7721e0>"
      ]
     },
     "execution_count": 14,
     "metadata": {},
     "output_type": "execute_result"
    }
   ],
   "source": [
    "classifier.fit(x,y)"
   ]
  },
  {
   "cell_type": "code",
   "execution_count": 15,
   "metadata": {},
   "outputs": [
    {
     "name": "stdout",
     "output_type": "stream",
     "text": [
      "Accuracy from the train data: 52.0%\n"
     ]
    }
   ],
   "source": [
    "print(f\"Accuracy from the train data: {np.round(100 * classifier.score(x, y), 2)}%\")"
   ]
  },
  {
   "cell_type": "code",
   "execution_count": 20,
   "metadata": {},
   "outputs": [
    {
     "name": "stdout",
     "output_type": "stream",
     "text": [
      "Accuracy from the test data: 42.0%\n"
     ]
    }
   ],
   "source": [
    "x1 = np.asarray(final_x1)\n",
    "y1 = np.asarray(test_labels)\n",
    "        \n",
    "x1 = x1[:50]\n",
    "y1 = y1[:50]\n",
    "y_predict = classifier.predict(x1)\n",
    "\n",
    "print(f\"Accuracy from the test data: {np.round(100 * classifier.score(x1, y1), 2)}%\")"
   ]
  },
  {
   "cell_type": "code",
   "execution_count": 21,
   "metadata": {},
   "outputs": [
    {
     "data": {
      "image/png": "[encoded data removed]",
      "text/plain": [
       "<Figure size 1000x600 with 4 Axes>"
      ]
     },
     "metadata": {},
     "output_type": "display_data"
    }
   ],
   "source": [
    "fig, ax = plt.subplots(2, 2, figsize=(10, 6), subplot_kw={\"xticks\": [], \"yticks\": []})\n",
    "for i in range(0, 4):\n",
    "    ax[i // 2, i % 2].imshow(x1[i].reshape(4, 4), aspect=\"equal\")\n",
    "    if y_predict[i] == 1:\n",
    "        ax[i // 2, i % 2].set_title(\"The QNN predicts this is 1\")\n",
    "    if y_predict[i] == 2:\n",
    "        ax[i // 2, i % 2].set_title(\"The QNN predicts this 2\")\n",
    "    if y_predict[i] == 4:\n",
    "        ax[i // 2, i % 2].set_title(\"The QNN predicts this 4\")   \n",
    "    if y_predict[i] == 9:\n",
    "        ax[i // 2, i % 2].set_title(\"The QNN predicts this 9\") \n",
    "plt.subplots_adjust(wspace=0.1, hspace=0.5)"
   ]
  },
  {
   "cell_type": "code",
   "execution_count": 22,
   "metadata": {},
   "outputs": [
    {
     "data": {
      "text/plain": [
       "array([2, 4, 4, 9, 4, 4, 9, 4, 4, 2, 2, 4, 2, 2, 9, 2, 9, 9, 9, 2, 4, 9,\n",
       "       4, 2, 4, 2, 4, 2, 2, 9, 9, 2, 9, 9, 2, 2, 4, 4, 2, 2, 9, 2, 2, 2,\n",
       "       9, 4, 4, 9, 9, 4], dtype=uint8)"
      ]
     },
     "execution_count": 22,
     "metadata": {},
     "output_type": "execute_result"
    }
   ],
   "source": [
    "y_predict"
   ]
  },
  {
   "cell_type": "code",
   "execution_count": 23,
   "metadata": {},
   "outputs": [
    {
     "data": {
      "text/plain": [
       "array([2, 4, 4, 9, 9, 9, 9, 4, 9, 4, 4, 4, 2, 2, 4, 2, 2, 4, 4, 9, 9, 4,\n",
       "       4, 2, 9, 2, 9, 2, 4, 9, 4, 9, 4, 9, 9, 2, 9, 4, 9, 4, 4, 4, 9, 4,\n",
       "       9, 4, 2, 2, 9, 9], dtype=uint8)"
      ]
     },
     "execution_count": 23,
     "metadata": {},
     "output_type": "execute_result"
    }
   ],
   "source": [
    "y1"
   ]
  }
 ],
 "metadata": {
  "kernelspec": {
   "display_name": "cwq",
   "language": "python",
   "name": "python3"
  },
  "language_info": {
   "codemirror_mode": {
    "name": "ipython",
    "version": 3
   },
   "file_extension": ".py",
   "mimetype": "text/x-python",
   "name": "python",
   "nbconvert_exporter": "python",
   "pygments_lexer": "ipython3",
   "version": "3.12.4"
  }
 },
 "nbformat": 4,
 "nbformat_minor": 2
}
